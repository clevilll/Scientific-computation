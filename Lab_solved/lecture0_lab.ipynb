{
 "cells": [
  {
   "cell_type": "markdown",
   "metadata": {},
   "source": [
    "# Markdown\n",
    "\n",
    "What Wikipedia says:\n",
    "> Markdown is a lightweight markup language with plain-text-formatting syntax. Its design allows it to be converted to many output formats, but the original tool by the same name only supports HTML. Markdown is often used to format readme files, for writing messages in online discussion forums, and to create rich text using a plain text editor.\n",
    "\n",
    "> Since the initial description of Markdown contained ambiguities and unanswered questions, the implementations that appeared over the years have subtle differences and many come with syntax extensions\n",
    "\n",
    "Please use a markdown cheats sheet to see how easy it is how to combine Maths and code. "
   ]
  },
  {
   "cell_type": "markdown",
   "metadata": {},
   "source": [
    "## Task 0: become familiar with markdown\n",
    "\n",
    "Write the markdown code for the mathematical expressions:\n",
    " - integral from a to b of function f(x) \n",
    " - the sum for k  from 1 to infinity of 1/k^2\n",
    " - a short mathematical theorem of your choice, for example ***Fermat's little theorem*** or whatever you like"
   ]
  },
  {
   "cell_type": "markdown",
   "metadata": {},
   "source": [
    "**The integral** \n",
    "\n",
    "$$\\int_{a}^{b}f(x) dx$$"
   ]
  },
  {
   "cell_type": "markdown",
   "metadata": {},
   "source": [
    "**The sum** \n",
    "\n",
    "$$\\sum_{k=1}^{\\infty} \\frac{1}{k^2}$$"
   ]
  },
  {
   "cell_type": "markdown",
   "metadata": {},
   "source": [
    "**The theorem**  \n",
    "If $p$ is a prime number,  then for any integer a, the number $a^p - a$ is an integer multiple of $p$. In the notation of modular arithmetic, this is exxpressed as: \\\\\n",
    "\\begin{align*}\n",
    "a^p \\equiv a (mod p)\n",
    "\\end{align*}"
   ]
  },
  {
   "cell_type": "markdown",
   "metadata": {},
   "source": [
    "# Variables "
   ]
  },
  {
   "cell_type": "markdown",
   "metadata": {},
   "source": [
    " Write a Python program to get the Python version you are using"
   ]
  },
  {
   "cell_type": "code",
   "execution_count": 1,
   "metadata": {},
   "outputs": [
    {
     "name": "stdout",
     "output_type": "stream",
     "text": [
      "Python version\n",
      "3.6.8 |Anaconda, Inc.| (default, Dec 30 2018, 18:50:55) [MSC v.1915 64 bit (AMD64)]\n",
      "Version info.\n",
      "sys.version_info(major=3, minor=6, micro=8, releaselevel='final', serial=0)\n"
     ]
    }
   ],
   "source": [
    "import sys\n",
    "print(\"Python version\")\n",
    "print (sys.version)\n",
    "print(\"Version info.\")\n",
    "print (sys.version_info)\n"
   ]
  },
  {
   "cell_type": "markdown",
   "metadata": {},
   "source": [
    "As a first example see a Python program which accepts the radius of a circle from the user and compute the area."
   ]
  },
  {
   "cell_type": "code",
   "execution_count": 2,
   "metadata": {},
   "outputs": [],
   "source": [
    "import math\n",
    "def area_circle(r):\n",
    "    print(\"The area of a circle with radius \"+str(r)+\" is: \"+str(math.pi*r**2))\n",
    "    return math.pi*r**2"
   ]
  },
  {
   "cell_type": "code",
   "execution_count": 3,
   "metadata": {},
   "outputs": [
    {
     "name": "stdout",
     "output_type": "stream",
     "text": [
      "The area of a circle with radius 1 is: 3.141592653589793\n"
     ]
    }
   ],
   "source": [
    "area=area_circle(1)"
   ]
  },
  {
   "cell_type": "code",
   "execution_count": 4,
   "metadata": {},
   "outputs": [
    {
     "name": "stdout",
     "output_type": "stream",
     "text": [
      "3.141592653589793\n"
     ]
    }
   ],
   "source": [
    "print(area)"
   ]
  },
  {
   "cell_type": "markdown",
   "metadata": {},
   "source": [
    "## Task 1: a simple function \n",
    "Now write a similar function which computes and prints for a cylinder, defined by radius r and height h \n",
    "the following values:\n",
    "    * volume V\n",
    "    * surface area A"
   ]
  },
  {
   "cell_type": "code",
   "execution_count": 5,
   "metadata": {},
   "outputs": [],
   "source": [
    "# TODO : define the cylinder function\n",
    "def cylcomp(r,h):\n",
    "    return area_circle(r)*h"
   ]
  },
  {
   "cell_type": "code",
   "execution_count": 6,
   "metadata": {},
   "outputs": [
    {
     "name": "stdout",
     "output_type": "stream",
     "text": [
      "The area of a circle with radius 3 is: 28.274333882308138\n"
     ]
    },
    {
     "data": {
      "text/plain": [
       "113.09733552923255"
      ]
     },
     "execution_count": 6,
     "metadata": {},
     "output_type": "execute_result"
    }
   ],
   "source": [
    "# TODO : use the cylinder function\n",
    "cylcomp(3,4)"
   ]
  },
  {
   "cell_type": "markdown",
   "metadata": {},
   "source": [
    "## Task 2: importing, understanding and using a module\n",
    "Write a Python program to print the calendar of a given month and year.  \n",
    "Note : Use `calendar` module.   \n",
    "To find out, how the calendar module can be used, use the build-in `help()` method:"
   ]
  },
  {
   "cell_type": "code",
   "execution_count": 7,
   "metadata": {},
   "outputs": [],
   "source": [
    "import calendar\n",
    "#help(calendar)"
   ]
  },
  {
   "cell_type": "code",
   "execution_count": 8,
   "metadata": {},
   "outputs": [
    {
     "name": "stdout",
     "output_type": "stream",
     "text": [
      "     April 2020\n",
      "Mo Tu We Th Fr Sa Su\n",
      "       1  2  3  4  5\n",
      " 6  7  8  9 10 11 12\n",
      "13 14 15 16 17 18 19\n",
      "20 21 22 23 24 25 26\n",
      "27 28 29 30\n",
      "\n"
     ]
    }
   ],
   "source": [
    "# TODO : print the calendar for April 2020\n",
    "yy= 2020\n",
    "mm = 4\n",
    "print(calendar.month(yy, mm))"
   ]
  },
  {
   "cell_type": "markdown",
   "metadata": {},
   "source": [
    "# Task 3: work with inputs \n",
    "To get user inputs you can use the `ìnput()` function, for example:"
   ]
  },
  {
   "cell_type": "code",
   "execution_count": 9,
   "metadata": {},
   "outputs": [
    {
     "name": "stdout",
     "output_type": "stream",
     "text": [
      "Linkin park\n",
      "You typed: Linkin park\n"
     ]
    }
   ],
   "source": [
    "x=input()\n",
    "print(\"You typed: %s\" % (x))"
   ]
  },
  {
   "cell_type": "markdown",
   "metadata": {},
   "source": [
    "Now write a function, which does:  \n",
    " - gets an input \n",
    " - count and print the number of characters of the input line\n",
    " - print the reverse input i.e. for input **Hello World** print **dlroW olleH**"
   ]
  },
  {
   "cell_type": "code",
   "execution_count": 10,
   "metadata": {},
   "outputs": [],
   "source": [
    "def char_cnt():\n",
    "    x=input()\n",
    "    x = str(x)\n",
    "    cnt = len(x)\n",
    "    rev = x[::-1]\n",
    "    print(cnt)\n",
    "    print(rev)\n",
    "    "
   ]
  },
  {
   "cell_type": "code",
   "execution_count": 11,
   "metadata": {},
   "outputs": [
    {
     "name": "stdout",
     "output_type": "stream",
     "text": [
      "Linkin Park\n",
      "11\n",
      "kraP nikniL\n"
     ]
    }
   ],
   "source": [
    "char_cnt()"
   ]
  },
  {
   "cell_type": "markdown",
   "metadata": {},
   "source": [
    "## Task 4: return values of functions\n",
    "\n",
    "Up to now we have not used any return values of functions. In this example we consider a simple function which computes and return the sum of two numbers:"
   ]
  },
  {
   "cell_type": "code",
   "execution_count": 12,
   "metadata": {},
   "outputs": [],
   "source": [
    "def mysum(a,b):\n",
    "    c=a+b\n",
    "    return c"
   ]
  },
  {
   "cell_type": "markdown",
   "metadata": {},
   "source": [
    "Now we can use this function in own computations, for example"
   ]
  },
  {
   "cell_type": "code",
   "execution_count": 13,
   "metadata": {},
   "outputs": [
    {
     "name": "stdout",
     "output_type": "stream",
     "text": [
      " 3 + 4 = 7.000000 \n"
     ]
    }
   ],
   "source": [
    "s1=mysum(3,4)\n",
    "print(\" 3 + 4 = %f \" % (s1) )"
   ]
  },
  {
   "cell_type": "markdown",
   "metadata": {},
   "source": [
    "Now write a function which does the following\n",
    " - for given string argument **s** and integer **n** return a string, consisting of every n-th. character of s  \n",
    " \n",
    "So for input **n=2** and **s=The quick brown fox jumps over the lazy dog** returns **Teqikbonfxjmsoe h aydg**"
   ]
  },
  {
   "cell_type": "code",
   "execution_count": 14,
   "metadata": {},
   "outputs": [
    {
     "name": "stdout",
     "output_type": "stream",
     "text": [
      "Teqikbonfxjmsoe h aydg\n"
     ]
    }
   ],
   "source": [
    "def nstring(s,n):\n",
    "    if n>= len(s):\n",
    "        print(\"please choose a smaller n!\")\n",
    "    else:\n",
    "        return s[::n]\n",
    "    \n",
    "sx=nstring(\"The quick brown fox jumps over the lazy dog\",2)\n",
    "print(sx)"
   ]
  },
  {
   "cell_type": "markdown",
   "metadata": {},
   "source": [
    "Think about the problems: \n",
    " - What will happen in your implementation, if **n** is larger then the total length of the string ?\n",
    " - What can you do to ensure, that your code returns what you want ?  "
   ]
  },
  {
   "cell_type": "markdown",
   "metadata": {},
   "source": [
    "## Task 5: your own example\n",
    "\n",
    "In the last task for today write a small program for a problem of your choice. Describe your problem in a short markdown cell, then implement it and make a test run.  \n",
    "\n",
    "To get some more than only `print(\"Hello World\")` ;-) the conditions are:\n",
    " - at least 4 input values (can be numbers, strings or whatever)\n",
    " - at least 3 self defined funtions \n",
    " - one of this functions calls one other function\n",
    " "
   ]
  },
  {
   "cell_type": "markdown",
   "metadata": {},
   "source": [
    "### Problem description ###\n",
    "Growing plants I want to compute the ammount of light needed per $m^2$ (in Watts) and the return per $m^2$ given by the genetics of a plant."
   ]
  },
  {
   "cell_type": "code",
   "execution_count": 15,
   "metadata": {},
   "outputs": [
    {
     "name": "stdout",
     "output_type": "stream",
     "text": [
      "How many sqm: \n",
      "Return per sqm (Genetics): \n",
      "Costs per kW: \n",
      "Growtime in Months: \n",
      "The cost of growing is $851.2 bringing ideally a return of: 1100.0\n"
     ]
    }
   ],
   "source": [
    "print(\"How many sqm: \")\n",
    "m2 = 2 #input()\n",
    "m2 = float(m2)\n",
    "print(\"Return per sqm (Genetics): \")\n",
    "gen = 550 #input()\n",
    "gen = float(gen)\n",
    "print(\"Costs per kW: \")\n",
    "cost  = 0.5 #input()\n",
    "cost = float(cost)\n",
    "print(\"Growtime in Months: \")\n",
    "growtime = 5 #input()\n",
    "\n",
    "def lights(m2, growtime):\n",
    "    mid = growtime * 30.5\n",
    "    mid = int(mid)\n",
    "    return int(m2*400*14*mid)\n",
    "\n",
    "def gain(gen, m2):\n",
    "    return gen*m2\n",
    "\n",
    "def total(m2, gen, cost, growtime):\n",
    "    p1 = lights(m2, growtime) * cost * 0.001\n",
    "    p2 = gain(gen, m2)\n",
    "    print(\"The cost of growing is $\" + str(p1) + \" bringing ideally a return of: \" + str(p2))\n",
    "    \n",
    "total(m2, gen, cost, growtime)"
   ]
  },
  {
   "cell_type": "code",
   "execution_count": 29,
   "metadata": {},
   "outputs": [],
   "source": [
    "\"\"\"\n",
    "\n",
    "\"\"\""
   ]
  },
  {
   "cell_type": "code",
   "execution_count": null,
   "metadata": {},
   "outputs": [],
   "source": []
  }
 ],
 "metadata": {
  "kernelspec": {
   "display_name": "Python 3",
   "language": "python",
   "name": "python3"
  },
  "language_info": {
   "codemirror_mode": {
    "name": "ipython",
    "version": 3
   },
   "file_extension": ".py",
   "mimetype": "text/x-python",
   "name": "python",
   "nbconvert_exporter": "python",
   "pygments_lexer": "ipython3",
   "version": "3.6.8"
  }
 },
 "nbformat": 4,
 "nbformat_minor": 2
}
