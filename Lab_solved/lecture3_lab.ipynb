{
 "cells": [
  {
   "cell_type": "markdown",
   "metadata": {},
   "source": [
    "# SymPy -- symbolic computation\n",
    "\n",
    "Symbolic computation is the computation of mathematical objects in an analytical way. \n",
    "The mathematical objects are represented exactly and not only approximately. For example $\\sqrt{8}$ will not approximated as $\\sqrt{8} = 2.82842712475$, it will be done as:"
   ]
  },
  {
   "cell_type": "code",
   "execution_count": 1,
   "metadata": {},
   "outputs": [],
   "source": [
    "#pip install sympy"
   ]
  },
  {
   "cell_type": "code",
   "execution_count": 2,
   "metadata": {},
   "outputs": [
    {
     "data": {
      "text/latex": [
       "$\\displaystyle 2 \\sqrt{2}$"
      ],
      "text/plain": [
       "2*sqrt(2)"
      ]
     },
     "execution_count": 2,
     "metadata": {},
     "output_type": "execute_result"
    }
   ],
   "source": [
    "import sympy as sp\n",
    "sp.sqrt(8)"
   ]
  },
  {
   "cell_type": "markdown",
   "metadata": {},
   "source": [
    "Furthermore one can define expressions, equations and more "
   ]
  },
  {
   "cell_type": "code",
   "execution_count": 3,
   "metadata": {},
   "outputs": [
    {
     "name": "stdout",
     "output_type": "stream",
     "text": [
      "x + 3*y\n"
     ]
    },
    {
     "data": {
      "text/latex": [
       "$\\displaystyle x + 3 y + 1$"
      ],
      "text/plain": [
       "x + 3*y + 1"
      ]
     },
     "execution_count": 3,
     "metadata": {},
     "output_type": "execute_result"
    }
   ],
   "source": [
    "x, y = sp.symbols('x y')\n",
    "expr=x+3*y\n",
    "print(expr)\n",
    "expr+1"
   ]
  },
  {
   "cell_type": "markdown",
   "metadata": {},
   "source": [
    "Differentiation, Integration, computation of limits is possible:"
   ]
  },
  {
   "cell_type": "code",
   "execution_count": 4,
   "metadata": {},
   "outputs": [
    {
     "data": {
      "text/latex": [
       "$\\displaystyle 6 x + \\cos{\\left(x \\right)} + 4$"
      ],
      "text/plain": [
       "6*x + cos(x) + 4"
      ]
     },
     "execution_count": 4,
     "metadata": {},
     "output_type": "execute_result"
    }
   ],
   "source": [
    "sp.diff(sp.sin(x)+3*x**2+4*x,x)"
   ]
  },
  {
   "cell_type": "code",
   "execution_count": 5,
   "metadata": {},
   "outputs": [
    {
     "data": {
      "text/latex": [
       "$\\displaystyle \\left(x^{2} - 2 x + 2\\right) e^{x}$"
      ],
      "text/plain": [
       "(x**2 - 2*x + 2)*exp(x)"
      ]
     },
     "execution_count": 5,
     "metadata": {},
     "output_type": "execute_result"
    }
   ],
   "source": [
    "sp.integrate(x**2*sp.exp(x),x)\n"
   ]
  },
  {
   "cell_type": "code",
   "execution_count": 6,
   "metadata": {},
   "outputs": [
    {
     "data": {
      "text/latex": [
       "$\\displaystyle -2 + 82 e^{10}$"
      ],
      "text/plain": [
       "-2 + 82*exp(10)"
      ]
     },
     "execution_count": 6,
     "metadata": {},
     "output_type": "execute_result"
    }
   ],
   "source": [
    "sp.integrate(x**2*sp.exp(x),(x,0,10))\n"
   ]
  },
  {
   "cell_type": "code",
   "execution_count": 7,
   "metadata": {},
   "outputs": [
    {
     "data": {
      "text/latex": [
       "$\\displaystyle 1806168.19517415$"
      ],
      "text/plain": [
       "1806168.19517415"
      ]
     },
     "execution_count": 7,
     "metadata": {},
     "output_type": "execute_result"
    }
   ],
   "source": [
    "sp.integrate(x**2*sp.exp(x),(x,0,10)).evalf()\n"
   ]
  },
  {
   "cell_type": "code",
   "execution_count": 8,
   "metadata": {},
   "outputs": [
    {
     "data": {
      "text/latex": [
       "$\\displaystyle 1$"
      ],
      "text/plain": [
       "1"
      ]
     },
     "execution_count": 8,
     "metadata": {},
     "output_type": "execute_result"
    }
   ],
   "source": [
    "sp.limit(sp.sin(x)/x,x,0)"
   ]
  },
  {
   "cell_type": "markdown",
   "metadata": {},
   "source": [
    "## Task\n",
    "\n",
    "Differentiate, integrate some expressions of your choice and compute the limits of some series"
   ]
  },
  {
   "cell_type": "code",
   "execution_count": 9,
   "metadata": {},
   "outputs": [
    {
     "name": "stdout",
     "output_type": "stream",
     "text": [
      "20*x**3 + 36*x**2 + 1/3\n",
      "16\n",
      "oo\n"
     ]
    }
   ],
   "source": [
    "x = sp.symbols('x')\n",
    "expression = 5*x**4 + 12*x**3 + x*1/3 + 7\n",
    "print(sp.diff(expression,x))\n",
    "print(sp.integrate(expression, (x,-1,1)))\n",
    "print(sp.limit(expression, x,sp.oo))"
   ]
  },
  {
   "cell_type": "markdown",
   "metadata": {},
   "source": [
    "\n",
    "### Floating point representation\n",
    "\n",
    "Sometimes it is useful to let SymPy evaluate a floating point approximation (up to a user specified number of digits).\n"
   ]
  },
  {
   "cell_type": "code",
   "execution_count": 10,
   "metadata": {},
   "outputs": [
    {
     "data": {
      "text/latex": [
       "$\\displaystyle 1.414213562$"
      ],
      "text/plain": [
       "1.414213562"
      ]
     },
     "execution_count": 10,
     "metadata": {},
     "output_type": "execute_result"
    }
   ],
   "source": [
    "sp.sqrt(2).evalf(10)"
   ]
  },
  {
   "cell_type": "markdown",
   "metadata": {},
   "source": [
    "## Task\n",
    "\n",
    "Evaluate $\\pi$ from sympy with hundred digits. \n",
    "\n",
    "Then write a functions which uses Leibniz Formula \n",
    "$$ 1 - \\frac{1}{3} + \\frac{1}{5} -  \\frac{1}{7}  + \\frac{1}{9}  + - \\cdots = \\frac{\\pi}{4} $$\n",
    "to approximate $\\pi$ with $n$ summands from the formula above. Make a convergence test - how many summands you need to get $m=5$ digits of $\\pi$"
   ]
  },
  {
   "cell_type": "code",
   "execution_count": 11,
   "metadata": {},
   "outputs": [
    {
     "data": {
      "text/latex": [
       "$\\displaystyle 3.141592653589793238462643383279502884197169399375105820974944592307816406286208998628034825342117068$"
      ],
      "text/plain": [
       "3.141592653589793238462643383279502884197169399375105820974944592307816406286208998628034825342117068"
      ]
     },
     "execution_count": 11,
     "metadata": {},
     "output_type": "execute_result"
    }
   ],
   "source": [
    "sp.pi.evalf(100)"
   ]
  },
  {
   "cell_type": "code",
   "execution_count": 12,
   "metadata": {},
   "outputs": [
    {
     "name": "stdout",
     "output_type": "stream",
     "text": [
      "3.141592643589326\n"
     ]
    }
   ],
   "source": [
    "def piapprox(n):\n",
    "    p=1\n",
    "    s=-1\n",
    "    for i in range(1,n):\n",
    "        p=p+s*1.0/(2*i+1)\n",
    "        s=-s\n",
    "    return p\n",
    "\n",
    "\n",
    "print(4*piapprox(100000000))"
   ]
  },
  {
   "cell_type": "code",
   "execution_count": 13,
   "metadata": {},
   "outputs": [
    {
     "data": {
      "text/plain": [
       "3.139592655589785"
      ]
     },
     "execution_count": 13,
     "metadata": {},
     "output_type": "execute_result"
    }
   ],
   "source": [
    "piapprox(500)*4"
   ]
  },
  {
   "cell_type": "markdown",
   "metadata": {},
   "source": [
    "## Solving equations\n",
    "\n",
    "Sympy can solve equations, for example roots of polynomials"
   ]
  },
  {
   "cell_type": "code",
   "execution_count": 14,
   "metadata": {},
   "outputs": [
    {
     "data": {
      "text/plain": [
       "[-1, 4]"
      ]
     },
     "execution_count": 14,
     "metadata": {},
     "output_type": "execute_result"
    }
   ],
   "source": [
    "sp.solve(-x**2+3*x+4,x)"
   ]
  },
  {
   "cell_type": "markdown",
   "metadata": {},
   "source": [
    "Not all is possible in exact computation"
   ]
  },
  {
   "cell_type": "code",
   "execution_count": 15,
   "metadata": {},
   "outputs": [
    {
     "ename": "NotImplementedError",
     "evalue": "multiple generators [exp(x), sin(x)]\nNo algorithms are implemented to solve equation exp(x) - sin(x)",
     "output_type": "error",
     "traceback": [
      "\u001b[1;31m---------------------------------------------------------------------------\u001b[0m",
      "\u001b[1;31mNotImplementedError\u001b[0m                       Traceback (most recent call last)",
      "\u001b[1;32m<ipython-input-15-94031e630926>\u001b[0m in \u001b[0;36m<module>\u001b[1;34m\u001b[0m\n\u001b[1;32m----> 1\u001b[1;33m \u001b[0msp\u001b[0m\u001b[1;33m.\u001b[0m\u001b[0msolve\u001b[0m\u001b[1;33m(\u001b[0m\u001b[0msp\u001b[0m\u001b[1;33m.\u001b[0m\u001b[0mexp\u001b[0m\u001b[1;33m(\u001b[0m\u001b[0mx\u001b[0m\u001b[1;33m)\u001b[0m\u001b[1;33m-\u001b[0m\u001b[0msp\u001b[0m\u001b[1;33m.\u001b[0m\u001b[0msin\u001b[0m\u001b[1;33m(\u001b[0m\u001b[0mx\u001b[0m\u001b[1;33m)\u001b[0m\u001b[1;33m,\u001b[0m\u001b[0mx\u001b[0m\u001b[1;33m)\u001b[0m\u001b[1;33m\u001b[0m\u001b[1;33m\u001b[0m\u001b[0m\n\u001b[0m",
      "\u001b[1;32m~\\Anaconda3\\envs\\CR7\\lib\\site-packages\\sympy\\solvers\\solvers.py\u001b[0m in \u001b[0;36msolve\u001b[1;34m(f, *symbols, **flags)\u001b[0m\n\u001b[0;32m   1092\u001b[0m     \u001b[1;31m###########################################################################\u001b[0m\u001b[1;33m\u001b[0m\u001b[1;33m\u001b[0m\u001b[1;33m\u001b[0m\u001b[0m\n\u001b[0;32m   1093\u001b[0m     \u001b[1;32mif\u001b[0m \u001b[0mbare_f\u001b[0m\u001b[1;33m:\u001b[0m\u001b[1;33m\u001b[0m\u001b[1;33m\u001b[0m\u001b[0m\n\u001b[1;32m-> 1094\u001b[1;33m         \u001b[0msolution\u001b[0m \u001b[1;33m=\u001b[0m \u001b[0m_solve\u001b[0m\u001b[1;33m(\u001b[0m\u001b[0mf\u001b[0m\u001b[1;33m[\u001b[0m\u001b[1;36m0\u001b[0m\u001b[1;33m]\u001b[0m\u001b[1;33m,\u001b[0m \u001b[1;33m*\u001b[0m\u001b[0msymbols\u001b[0m\u001b[1;33m,\u001b[0m \u001b[1;33m**\u001b[0m\u001b[0mflags\u001b[0m\u001b[1;33m)\u001b[0m\u001b[1;33m\u001b[0m\u001b[1;33m\u001b[0m\u001b[0m\n\u001b[0m\u001b[0;32m   1095\u001b[0m     \u001b[1;32melse\u001b[0m\u001b[1;33m:\u001b[0m\u001b[1;33m\u001b[0m\u001b[1;33m\u001b[0m\u001b[0m\n\u001b[0;32m   1096\u001b[0m         \u001b[0msolution\u001b[0m \u001b[1;33m=\u001b[0m \u001b[0m_solve_system\u001b[0m\u001b[1;33m(\u001b[0m\u001b[0mf\u001b[0m\u001b[1;33m,\u001b[0m \u001b[0msymbols\u001b[0m\u001b[1;33m,\u001b[0m \u001b[1;33m**\u001b[0m\u001b[0mflags\u001b[0m\u001b[1;33m)\u001b[0m\u001b[1;33m\u001b[0m\u001b[1;33m\u001b[0m\u001b[0m\n",
      "\u001b[1;32m~\\Anaconda3\\envs\\CR7\\lib\\site-packages\\sympy\\solvers\\solvers.py\u001b[0m in \u001b[0;36m_solve\u001b[1;34m(f, *symbols, **flags)\u001b[0m\n\u001b[0;32m   1692\u001b[0m \u001b[1;33m\u001b[0m\u001b[0m\n\u001b[0;32m   1693\u001b[0m     \u001b[1;32mif\u001b[0m \u001b[0mresult\u001b[0m \u001b[1;32mis\u001b[0m \u001b[1;32mFalse\u001b[0m\u001b[1;33m:\u001b[0m\u001b[1;33m\u001b[0m\u001b[1;33m\u001b[0m\u001b[0m\n\u001b[1;32m-> 1694\u001b[1;33m         \u001b[1;32mraise\u001b[0m \u001b[0mNotImplementedError\u001b[0m\u001b[1;33m(\u001b[0m\u001b[1;34m'\\n'\u001b[0m\u001b[1;33m.\u001b[0m\u001b[0mjoin\u001b[0m\u001b[1;33m(\u001b[0m\u001b[1;33m[\u001b[0m\u001b[0mmsg\u001b[0m\u001b[1;33m,\u001b[0m \u001b[0mnot_impl_msg\u001b[0m \u001b[1;33m%\u001b[0m \u001b[0mf\u001b[0m\u001b[1;33m]\u001b[0m\u001b[1;33m)\u001b[0m\u001b[1;33m)\u001b[0m\u001b[1;33m\u001b[0m\u001b[1;33m\u001b[0m\u001b[0m\n\u001b[0m\u001b[0;32m   1695\u001b[0m \u001b[1;33m\u001b[0m\u001b[0m\n\u001b[0;32m   1696\u001b[0m     \u001b[1;32mif\u001b[0m \u001b[0mflags\u001b[0m\u001b[1;33m.\u001b[0m\u001b[0mget\u001b[0m\u001b[1;33m(\u001b[0m\u001b[1;34m'simplify'\u001b[0m\u001b[1;33m,\u001b[0m \u001b[1;32mTrue\u001b[0m\u001b[1;33m)\u001b[0m\u001b[1;33m:\u001b[0m\u001b[1;33m\u001b[0m\u001b[1;33m\u001b[0m\u001b[0m\n",
      "\u001b[1;31mNotImplementedError\u001b[0m: multiple generators [exp(x), sin(x)]\nNo algorithms are implemented to solve equation exp(x) - sin(x)"
     ]
    }
   ],
   "source": [
    "sp.solve(sp.exp(x)-sp.sin(x),x)"
   ]
  },
  {
   "cell_type": "markdown",
   "metadata": {},
   "source": [
    "but it can be approximated in a numerical way. Play around with different starting values."
   ]
  },
  {
   "cell_type": "code",
   "execution_count": 16,
   "metadata": {},
   "outputs": [
    {
     "data": {
      "text/latex": [
       "$\\displaystyle -15.7079634186507$"
      ],
      "text/plain": [
       "-15.7079634186507"
      ]
     },
     "execution_count": 16,
     "metadata": {},
     "output_type": "execute_result"
    }
   ],
   "source": [
    "sp.nsolve(sp.exp(x)-sp.sin(x),0)"
   ]
  },
  {
   "cell_type": "markdown",
   "metadata": {},
   "source": [
    "It is possible to solve systems, for example the intersection of a circle and a line:\n"
   ]
  },
  {
   "cell_type": "code",
   "execution_count": 17,
   "metadata": {},
   "outputs": [
    {
     "data": {
      "image/png": "[encoded data removed]",
      "text/plain": [
       "<Figure size 432x288 with 1 Axes>"
      ]
     },
     "metadata": {
      "needs_background": "light"
     },
     "output_type": "display_data"
    },
    {
     "name": "stdout",
     "output_type": "stream",
     "text": [
      "(-1.13790881602597, 2.77581763205193)\n"
     ]
    }
   ],
   "source": [
    "import matplotlib.pyplot as plt\n",
    "import numpy as np\n",
    "#Solver:\n",
    "x,y = sp.symbols(\"x y\")\n",
    "eq1 = x**2 + y**2 - 9  # circle of radius 3\n",
    "#eq2 = 2*x + y - sp.Rational(1,2)   # line y(x) = -2*x + 1/2\n",
    "eq2 = 2*x + y - 1/2  # try out what happens here\n",
    "\n",
    "[sol1, sol2] = sp.solve([eq1, eq2], [x, y])\n",
    "\n",
    "t = np.linspace(0,2*np.pi,100)\n",
    "t2 = np.linspace(-3,3)\n",
    "#line = -2*t+1/2\n",
    "#circle = np.sqrt(-t**2+9)\n",
    "r=3\n",
    "x1 = r*np.cos(t)\n",
    "x2 = r*np.sin(t)\n",
    "x3 = -2 * t2+ 1/2\n",
    "fig, ax = plt.subplots()\n",
    "\n",
    "ax.plot(x1,x2)\n",
    "ax.plot(t2,x3, linewidth = 3.0)\n",
    "ax.scatter(sol1[0], sol1[1], color  = 'r', marker = 'D', linewidth = 8)\n",
    "ax.scatter(sol2[0], sol2[1], color  = 'r', marker = 'D', linewidth = 8)\n",
    "\n",
    "\n",
    "ax.set_xlabel('$x$')\n",
    "ax.set_ylabel('$y$')\n",
    "ax.set_ylim(-4,4)\n",
    "ax.set_xlim(-4,4)\n",
    "ax.legend(['circle = sqrt(-t**2+9)',  'line = -2*t+1/2'], loc='upper right')\n",
    "plt.show()\n",
    "\n",
    "print(sol1)\n"
   ]
  },
  {
   "cell_type": "markdown",
   "metadata": {},
   "source": [
    "## Task\n",
    "\n",
    "Make a geometrical interpretation to the following system of equations\n",
    "$$ x^2+y^2+z^2=1 $$\n",
    "$$ z=x^2+y^2 $$\n",
    "$$ y=0 $$\n",
    "and then solve this system, dump the solutions as expressions and as floating point numbers.\n",
    "Then interprete the solutions."
   ]
  },
  {
   "cell_type": "markdown",
   "metadata": {},
   "source": [
    "## Task\n",
    "\n",
    "Now define your own geometrical problem in the space $R^3$. It should have $4$ points in $R^3$ as solution."
   ]
  },
  {
   "cell_type": "code",
   "execution_count": 18,
   "metadata": {},
   "outputs": [
    {
     "data": {
      "image/png": "[encoded data removed]",
      "text/plain": [
       "<Figure size 432x288 with 1 Axes>"
      ]
     },
     "metadata": {
      "needs_background": "light"
     },
     "output_type": "display_data"
    },
    {
     "name": "stdout",
     "output_type": "stream",
     "text": [
      "\n",
      " (-sqrt(-1/2 + sqrt(5)/2), 0, -1/2 + sqrt(5)/2)\n",
      "-0.786151377757423\n",
      "0\n",
      "0.618033988749895\n",
      "\n",
      " (sqrt(-1/2 + sqrt(5)/2), 0, -1/2 + sqrt(5)/2)\n",
      "0.786151377757423\n",
      "0\n",
      "0.618033988749895\n",
      "\n",
      " (-sqrt(-sqrt(5)/2 - 1/2), 0, -sqrt(5)/2 - 1/2)\n",
      "-1.27201964951407*I\n",
      "0\n",
      "-1.61803398874989\n",
      "\n",
      " (sqrt(-sqrt(5)/2 - 1/2), 0, -sqrt(5)/2 - 1/2)\n",
      "1.27201964951407*I\n",
      "0\n",
      "-1.61803398874989\n"
     ]
    }
   ],
   "source": [
    "#The first equation is a unit ball 3dim\n",
    "#The second equation is a hyperplane as plotted below\n",
    "from mpl_toolkits.mplot3d import Axes3D\n",
    "fig = plt.figure()\n",
    "ax = fig.gca(projection='3d')\n",
    "X = np.arange(-2, 2, 0.25)\n",
    "Y = np.arange(-2, 2, 0.25)\n",
    "X, Y = np.meshgrid(X, Y)\n",
    "Z = X**2 + Y**2\n",
    "Xzero = np.arange(-1, 1, 0.25)\n",
    "Zzero = np.arange(-1, 1, 0.25)\n",
    "Xzero, Zzero = np.meshgrid(Xzero, Zzero)\n",
    "Yzero = Xzero*0 + Zzero*0\n",
    "# Create a sphere\n",
    "r = 1\n",
    "pi = np.pi\n",
    "cos = np.cos\n",
    "sin = np.sin\n",
    "phi, theta = np.mgrid[0.0:pi:100j, 0.0:2.0*pi:100j]\n",
    "x = r*sin(phi)*cos(theta)\n",
    "y = r*sin(phi)*sin(theta)\n",
    "z = r*cos(phi)\n",
    "\n",
    "#Set colours and render\n",
    "murf  = ax.plot_surface(x, y, z,  rstride=1, cstride=1, color='c', alpha=0.6, linewidth=0)\n",
    "\n",
    "surf = ax.plot_surface(X, Y, Z, linewidth=0, antialiased=False, alpha = 0.3)\n",
    "turf = ax.plot_surface(Xzero, Yzero, Zzero, linewidth=0, antialiased=False, alpha = 0.5)\n",
    "ax.set_xlim([-1,1])\n",
    "ax.set_ylim([-1,1])\n",
    "ax.set_zlim([-1,1])\n",
    "ax.set_aspect(\"equal\")\n",
    "plt.tight_layout()\n",
    "plt.show()\n",
    "#The third equation just sets y=0\n",
    "#so we are looking at the intersections between a unit ball, a hyperplane on y=0\n",
    "\n",
    "z, x, y=sp.symbols('z x y') # x and y are already symbols \n",
    "eq1 = x**2 + y**2 + z**2 - 1\n",
    "roots1 = sp.solve(eq1,x, y, z)\n",
    "eq2 = x**2 + y**2 - z\n",
    "roots2 = sp.solve(eq2,x, y, z)\n",
    "eq3 = y\n",
    "sol = sp.solve([eq1, eq2, eq3], (x, y,z))\n",
    "for s in sol:\n",
    "    print('\\n',s)\n",
    "    for t in list(s):\n",
    "        print(t.evalf())"
   ]
  },
  {
   "cell_type": "code",
   "execution_count": 19,
   "metadata": {},
   "outputs": [],
   "source": [
    "# TODO"
   ]
  },
  {
   "cell_type": "markdown",
   "metadata": {},
   "source": [
    "## Task\n",
    "\n",
    "Now a task for integration and solving of equations. We consider the affine linear function\n",
    "$$f(x)=m x + 1 \\quad m \\in R$$ \n",
    "and the parabola\n",
    "$$g(x)=(x-1)^2$$\n",
    "\n",
    "Make a sketch of the functions (on a sheet of paper, not here) \n",
    "and then compute $m$ such that the area between the graphs of this functions is $1$.\n",
    "  * Hint 1 : you need the intersection points of the functions, depending on m\n",
    "  * Hint 2 : you get the area between the functions with integrals between the intersection points \n",
    "  * Hint 3 : then you have the area A(m) and can solve A(m)=1\n",
    "  * Hint 4 : check your solution at the end of all with a probe"
   ]
  },
  {
   "cell_type": "code",
   "execution_count": 20,
   "metadata": {},
   "outputs": [
    {
     "name": "stdout",
     "output_type": "stream",
     "text": [
      "4\n"
     ]
    }
   ],
   "source": [
    "#Intersection Point with a fixed m = 2\n",
    "x = sp.symbols('x')\n",
    "f_x = 2*x+1\n",
    "g_x = (x-1)**2\n",
    "ints = sp.solve(f_x  - g_x, x)\n",
    "print(ints[1])"
   ]
  },
  {
   "cell_type": "code",
   "execution_count": 21,
   "metadata": {},
   "outputs": [
    {
     "name": "stdout",
     "output_type": "stream",
     "text": [
      "10.6666666666667\n"
     ]
    }
   ],
   "source": [
    "#integral over this\n",
    "lin = sp.integrate(f_x, (x, 0, ints[1]))\n",
    "par = sp.integrate(g_x, (x, 0, ints[1]))\n",
    "space = lin - par\n",
    "print(space.evalf())"
   ]
  },
  {
   "cell_type": "code",
   "execution_count": 22,
   "metadata": {},
   "outputs": [
    {
     "name": "stdout",
     "output_type": "stream",
     "text": [
      "-0.182879407167860\n"
     ]
    }
   ],
   "source": [
    "#Intersection Point depending on m\n",
    "x, m = sp.symbols('x m')\n",
    "f_x = m*x+1\n",
    "g_x = (x-1)**2\n",
    "ints = sp.solve(f_x  - g_x, x)\n",
    "lin = sp.integrate(f_x, (x, 0, ints[1]))\n",
    "par = sp.integrate(g_x, (x, 0, ints[1]))\n",
    "space = lin - par\n",
    "sol = sp.solve(space - 1, m)\n",
    "print(sol[0].evalf())"
   ]
  },
  {
   "cell_type": "code",
   "execution_count": 23,
   "metadata": {},
   "outputs": [
    {
     "name": "stdout",
     "output_type": "stream",
     "text": [
      "1.00000000000000\n"
     ]
    }
   ],
   "source": [
    "#test\n",
    "x = sp.symbols('x')\n",
    "f_x = -0.182879407167860*x+1\n",
    "g_x = (x-1)**2\n",
    "ints = sp.solve(f_x  - g_x, x)\n",
    "lin = sp.integrate(f_x, (x, 0, ints[1]))\n",
    "par = sp.integrate(g_x, (x, 0, ints[1]))\n",
    "space = lin - par\n",
    "print(space.evalf())"
   ]
  },
  {
   "cell_type": "markdown",
   "metadata": {},
   "source": [
    "## Differential equations \n",
    "\n",
    "Sympy can solve differential equations like\n",
    "\n",
    "$$u'(t)=a u(t) \\qquad a \\in R$$ \n",
    "\n",
    "which is an example for exponential growth (a>0) or exponential decay (a<0). Such equations can model \n",
    "the growth of microbes or radioactive disintegration."
   ]
  },
  {
   "cell_type": "code",
   "execution_count": 24,
   "metadata": {},
   "outputs": [
    {
     "data": {
      "text/latex": [
       "$\\displaystyle u{\\left(t \\right)} = C_{1} e^{a t}$"
      ],
      "text/plain": [
       "Eq(u(t), C1*exp(a*t))"
      ]
     },
     "execution_count": 24,
     "metadata": {},
     "output_type": "execute_result"
    }
   ],
   "source": [
    "u=sp.Function('u')\n",
    "t=sp.symbols('t')\n",
    "a=sp.symbols('a')\n",
    "sp.dsolve(u(t).diff(t, 1) - a*u(t))"
   ]
  },
  {
   "cell_type": "markdown",
   "metadata": {},
   "source": [
    "## Task \n",
    "\n",
    "Solve the problem for the logistic equation\n",
    "\n",
    "$$ u'(t) = au(t) - bu^2(t) $$\n",
    "\n",
    "and interpret the solution for $a=b=1$. Find out if there exist equilibrium states where $u(t)=const$ which is equivalent to $u'(t)=0$\n",
    "\n"
   ]
  },
  {
   "cell_type": "code",
   "execution_count": 25,
   "metadata": {},
   "outputs": [],
   "source": [
    "u=sp.Function('u')\n",
    "t=sp.symbols('t')\n",
    "a, b =sp.symbols('a b')\n",
    "expression = sp.dsolve(u(t).diff(t, 1) - a*u(t) - b*u(t)*u(t))"
   ]
  },
  {
   "cell_type": "code",
   "execution_count": 26,
   "metadata": {},
   "outputs": [
    {
     "data": {
      "text/latex": [
       "$\\displaystyle u{\\left(t \\right)} = \\frac{1}{C_{1} e^{- t} - 1}$"
      ],
      "text/plain": [
       "Eq(u(t), 1/(C1*exp(-t) - 1))"
      ]
     },
     "execution_count": 26,
     "metadata": {},
     "output_type": "execute_result"
    }
   ],
   "source": [
    "#a=b=1\n",
    "sp.dsolve(u(t).diff(t, 1) - u(t) - u(t)*u(t))"
   ]
  },
  {
   "cell_type": "code",
   "execution_count": 27,
   "metadata": {},
   "outputs": [
    {
     "name": "stdout",
     "output_type": "stream",
     "text": [
      "[a*exp(a*(C1 + t))/(b*(1 - exp(a*(C1 + t))))]\n"
     ]
    }
   ],
   "source": [
    "equilibrium = sp.solve(expression, u(t))\n",
    "print(equilibrium)"
   ]
  },
  {
   "cell_type": "code",
   "execution_count": null,
   "metadata": {},
   "outputs": [],
   "source": []
  }
 ],
 "metadata": {
  "kernelspec": {
   "display_name": "Python 3",
   "language": "python",
   "name": "python3"
  },
  "language_info": {
   "codemirror_mode": {
    "name": "ipython",
    "version": 3
   },
   "file_extension": ".py",
   "mimetype": "text/x-python",
   "name": "python",
   "nbconvert_exporter": "python",
   "pygments_lexer": "ipython3",
   "version": "3.6.8"
  }
 },
 "nbformat": 4,
 "nbformat_minor": 4
}
