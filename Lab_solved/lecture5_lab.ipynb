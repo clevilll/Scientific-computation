{
 "cells": [
  {
   "cell_type": "markdown",
   "metadata": {},
   "source": [
    "We want to solve the linear system $$Ax=b$$ and we split the matrix into first unknown matrices $M$ and $N$\n",
    "as follows \n",
    "$$A=M-N$$\n",
    "where we assume that $M$ is invertible. We can then write our linear system as follows\n",
    "\\begin{align}\n",
    "Ax&=b\\\\\n",
    "\\Leftrightarrow&\\quad (M-N)x=b\\\\\n",
    "\\Leftrightarrow&\\quad  Mx-Nx=b\\\\\n",
    "\\Leftrightarrow&\\quad  Mx=b+Nx\\\\\n",
    "\\Leftrightarrow&\\quad  x=M^{-1}b+M^{-1}Nx\\\\\n",
    "\\Leftrightarrow&\\quad  x=M^{-1}b+M^{-1}(M-A)x\\\\\n",
    "\\Leftrightarrow&\\quad  x=M^{-1}b+(I-M^{-1}A)x\\\\\n",
    "\\Leftrightarrow&\\quad  x=x+M^{-1}(b-Ax)\\\\\n",
    "\\end{align}\n",
    "so far it seems nothing is gained but let's turn this into an iteration\n",
    "$$\n",
    "x^{(k+1)}=x^{(k)}+M^{-1}(b-Ax^{(k)}).\n",
    "$$\n",
    "This method does work quite well under certain circumstances. We now want to create an actual example and for that choose \n",
    "$$\n",
    "M=D\n",
    "$$\n",
    "with $D$ the diagonal of $A$. This is the so-called Jacobi iteration. Please implement a function that given a right hand side and a matrix implements this method. You can use the norm of the residual as a measure of convergence, i.e.,\n",
    "$$\n",
    "r^{(k)}=b-Ax^{(k)}.\n",
    "$$\n",
    "You can start with the zero vector for $x^{(0)}$.\n"
   ]
  },
  {
   "cell_type": "code",
   "execution_count": 1,
   "metadata": {},
   "outputs": [],
   "source": [
    "import numpy as np\n",
    "import scipy\n",
    "from scipy import linalg as la\n",
    "from scipy import optimize\n",
    "import scipy.sparse as spsp"
   ]
  },
  {
   "cell_type": "code",
   "execution_count": 2,
   "metadata": {},
   "outputs": [],
   "source": [
    "# function should return solution x and \n",
    "# number of iteration, such it can be called as\n",
    "# (x,it)=jacobi(A,b,maxiter,tol,verbose)\n",
    "# if verbose==0 the function should not print out messages\n",
    "def jacobi(A,b,maxiter,tol,verbose):\n",
    "    n = A.shape[0]\n",
    "    if n != A.shape[1] or verbose == 0:\n",
    "        return 0\n",
    "    else:\n",
    "        xold= np.zeros((n,1))\n",
    "        x = xold #first iteration\n",
    "        k=0    \n",
    "        #split matrix into A = M - N\n",
    "        N = np.diag(A)\n",
    "        M = np.diagflat(N)\n",
    "        N = M-A\n",
    "        res = np.sum(abs(A@x - b)) #alternativ ueber die Norm\n",
    "        while res > tol:\n",
    "            if k == maxiter:\n",
    "                break\n",
    "            else:\n",
    "                xold = x\n",
    "                x = xold + la.inv(M)@(b-A@xold)\n",
    "                k = k + 1\n",
    "                res = np.sum(abs(A@xold - b))\n",
    "    \n",
    "    \n",
    "        return (x,k)\n",
    "    "
   ]
  },
  {
   "cell_type": "markdown",
   "metadata": {},
   "source": [
    "Now check out if our iteration converges, at first with random matrx and random right hand side"
   ]
  },
  {
   "cell_type": "code",
   "execution_count": 3,
   "metadata": {},
   "outputs": [],
   "source": [
    "n=5\n",
    "x = np.zeros((n,1))\n",
    "diag = np.diag([10,10,10,10,10])\n",
    "A=np.random.rand(n,n)+diag\n",
    "b = np.random.rand(n,1)"
   ]
  },
  {
   "cell_type": "code",
   "execution_count": 4,
   "metadata": {},
   "outputs": [
    {
     "name": "stdout",
     "output_type": "stream",
     "text": [
      "2.0783278499110245\n"
     ]
    }
   ],
   "source": [
    "print(np.sum(abs(A@x - b)))\n",
    "#np.sum((abs(A@x - b) > err).astype(int)) == n"
   ]
  },
  {
   "cell_type": "code",
   "execution_count": 5,
   "metadata": {},
   "outputs": [
    {
     "name": "stdout",
     "output_type": "stream",
     "text": [
      "[[0.02469992]\n",
      " [0.01534037]\n",
      " [0.03333036]\n",
      " [0.00487227]\n",
      " [0.08675295]]\n",
      "9\n",
      "1.4817461863741999e-06\n"
     ]
    }
   ],
   "source": [
    "(x,it)=jacobi(A,b,1000,1e-5,verbose=1)\n",
    "print(x)\n",
    "print(it)\n",
    "print(np.sum(abs(A@x - b)))"
   ]
  },
  {
   "cell_type": "markdown",
   "metadata": {},
   "source": [
    "It seems not to converge, lets try another matrix, for example we make A diagonal dominant by replacing \n",
    "$A_{ii}$ with the sum of row $i$.\n",
    "\n"
   ]
  },
  {
   "cell_type": "code",
   "execution_count": 6,
   "metadata": {},
   "outputs": [
    {
     "name": "stdout",
     "output_type": "stream",
     "text": [
      "0.3209112633099818\n",
      "15\n"
     ]
    }
   ],
   "source": [
    "A2=A.copy()\n",
    "n1=np.ones((n,1))\n",
    "rs=A2@n1\n",
    "#print(n1)\n",
    "#print(rs)\n",
    "\n",
    "for i in range (n):\n",
    "    A2[i,i]=rs[i]\n",
    "               \n",
    "(x,it)=jacobi(A2,b,1000,1e-10,verbose=1)\n",
    "print(np.sum(abs(A@x - b)))\n",
    "print(it)"
   ]
  },
  {
   "cell_type": "markdown",
   "metadata": {},
   "source": [
    "The Jacobi iteration computes the vector \n",
    "$ x^{(k+1)} $ from values of vector $ x^{(k)} $. \n",
    "Now the idea comes up to use for the computation of the component $i$ of $x^{(k+1)}$ the already computed components $x^{(k+1)}_1 \\cdots x^{(k+1)}_{i-1}$ from the new vector $x^{(k+1)}$  instead the components of the old vector $x^{(k)}$.\n",
    "\n",
    "This leads to the Gauss-Seidel iteration,\n",
    "instead of choosing\n",
    "$$ M=D $$ with $D$ the diagonal of $A$ in the Jacobi iteration now choose\n",
    "$$ M=(D+L) $$ where $L$ is the lower triangle of $A$.\n",
    "\n",
    "Please implement again a function that given a right hand side and a matrix implements this method. \n",
    "You can use the norm of the residual as a measure of convergence, i.e.,\n",
    "$$\n",
    "r^{(k)}=b-Ax^{(k)}.\n",
    "$$\n",
    "You can start with the zero vector for $x^{(0)}$.\n"
   ]
  },
  {
   "cell_type": "code",
   "execution_count": 7,
   "metadata": {},
   "outputs": [],
   "source": [
    "# function should return solution x and \n",
    "# number of iteration, such it can be called as\n",
    "# (x,it)=gauss_seidel(A,b,maxiter,tol,verbose)\n",
    "# if verbose==0 the function should not print out messages\n",
    "def gauss_seidel(A,b,maxiter,tol,verbose):\n",
    "    n = A.shape[0]\n",
    "    if n != A.shape[1] or verbose == 0:\n",
    "        return 0\n",
    "    else:\n",
    "        \n",
    "    \n",
    "        xold=np.zeros((n,1)) # dummy - to remove\n",
    "        k=0\n",
    "        N = np.diag(A)\n",
    "        D = np.diagflat(N) #Diagonal Matrix\n",
    "        L = np.tril(A, k=-1) #L is lower triangle\n",
    "        M = D + L\n",
    "    \n",
    "    \n",
    "        x = xold #first iteration   \n",
    "        #split matrix into A = M - N\n",
    "        res = np.sum(abs(A@x - b)) #alternativ ueber die Norm\n",
    "        while res > tol:\n",
    "            if k == maxiter:\n",
    "                break\n",
    "            else:\n",
    "                xold = x\n",
    "                x = xold + la.inv(M)@(b-A@xold)\n",
    "                k = k + 1\n",
    "                res = np.sum(abs(A@xold - b))\n",
    "    \n",
    "    \n",
    "        return (x,k)\n"
   ]
  },
  {
   "cell_type": "code",
   "execution_count": 8,
   "metadata": {},
   "outputs": [
    {
     "name": "stdout",
     "output_type": "stream",
     "text": [
      "[[0.02074505]\n",
      " [0.01365535]\n",
      " [0.02932432]\n",
      " [0.00514865]\n",
      " [0.07064779]]\n",
      "5\n",
      "2.2487496739720392e-07\n"
     ]
    }
   ],
   "source": [
    "(x,it)=gauss_seidel(A2,b,1000,1e-5,verbose=1)\n",
    "print(x)\n",
    "print(it)\n",
    "print(np.sum(abs(A2@x - b)))"
   ]
  },
  {
   "cell_type": "markdown",
   "metadata": {},
   "source": [
    "Now we want to examine the convergence of Jacobi and Gauss-Seidel iteration for different system sizes.\n",
    "Create a plot of iteration numbers for system sizes $n=5,10,15,20,25,30,40,50$. Use a matrix $A$ and vector $b$\n",
    "of your choice but ensure that this matrix will converge at all."
   ]
  },
  {
   "cell_type": "code",
   "execution_count": 15,
   "metadata": {},
   "outputs": [],
   "source": [
    "# get the plot lib \n",
    "import matplotlib.pyplot as plt\n",
    "#Maatrix A and vector b of my choice\n",
    "n=50\n",
    "x = np.zeros((n,1))\n",
    "diag = np.diag(np.ones(n)*30)\n",
    "A=np.random.rand(n,n)+diag\n",
    "b = np.random.rand(n,1)\n",
    "\n",
    "def jac(A,b,m):\n",
    "    xold= np.zeros((m,1))\n",
    "    x = xold #first iteration\n",
    "    N = np.diag(A)\n",
    "    M = np.diagflat(N)\n",
    "    N = M-A\n",
    "    for k in range(1,m):\n",
    "        xold = x\n",
    "        x = xold + la.inv(M)@(b-A@xold)\n",
    "        res = np.sum(abs(A@xold - b))\n",
    "    \n",
    "    \n",
    "    return res\n",
    "\n",
    "num = [5,10,15,20,25,30,40,50]\n",
    "\n",
    "#plt.show\n",
    "    \n",
    "    "
   ]
  },
  {
   "cell_type": "code",
   "execution_count": 21,
   "metadata": {},
   "outputs": [
    {
     "data": {
      "text/plain": [
       "0.0007220839929577283"
      ]
     },
     "execution_count": 21,
     "metadata": {},
     "output_type": "execute_result"
    }
   ],
   "source": [
    "jac(A,b,50)"
   ]
  },
  {
   "cell_type": "code",
   "execution_count": null,
   "metadata": {},
   "outputs": [],
   "source": []
  }
 ],
 "metadata": {
  "kernelspec": {
   "display_name": "Python 3",
   "language": "python",
   "name": "python3"
  },
  "language_info": {
   "codemirror_mode": {
    "name": "ipython",
    "version": 3
   },
   "file_extension": ".py",
   "mimetype": "text/x-python",
   "name": "python",
   "nbconvert_exporter": "python",
   "pygments_lexer": "ipython3",
   "version": "3.6.8"
  }
 },
 "nbformat": 4,
 "nbformat_minor": 4
}
