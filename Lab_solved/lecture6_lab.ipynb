{
 "cells": [
  {
   "cell_type": "markdown",
   "metadata": {},
   "source": [
    "# Exercise for Object Orientation"
   ]
  },
  {
   "cell_type": "markdown",
   "metadata": {},
   "source": [
    "Write the definition of a `Point` class for handling points in the 3-dimensional space $R^3$. \n",
    "Objects from this class should have a\n",
    "* a method `show` to display the coordinates of the point\n",
    "* a method `move` to move a point \n",
    "* a method `dist` that computes the distance between 2 points\n",
    "* a method `dotprod` that computes the dot product of 2 points\n",
    "* a method `crossrod` that computes the scalar product of 2 points\n",
    "* a method `norm` that returns the norm of the point\n",
    "* a method `normalize` that makes the points norm equal 1\n",
    "* a method `scale` that scales the point by scalar alpha \n",
    "\n",
    "\n",
    "\n"
   ]
  },
  {
   "cell_type": "code",
   "execution_count": 8,
   "metadata": {},
   "outputs": [],
   "source": [
    "import numpy as np\n",
    "import math\n",
    "\n",
    "class Point(object):\n",
    "    \"\"\"Class to handle point in R^3\"\"\"\n",
    "\n",
    "    def __init__(self, x, y, z):\n",
    "        \"\"\"\n",
    "        :param x,y,z: coordinates\n",
    "        :type x,y,z:  float\n",
    "        \"\"\"\n",
    "        self.x = x\n",
    "        self.y = y\n",
    "        self.z = z\n",
    "\n",
    "    def show(self):\n",
    "        \"\"\"\n",
    "        :return: the coordinate of this point\n",
    "        :rtype: a tuple of 3 elements (float, float,float)\n",
    "        \"\"\"\n",
    "        return self.x, self.y, self.z\n",
    "    def move(self, point1):\n",
    "        self.x = self.x + point1.x\n",
    "        self.y = self.y + point1.y\n",
    "        self.z = self.z + point1.z\n",
    "        \n",
    "        return self.x, self.y, self.z\n",
    "    \n",
    "    def dist(self, other):\n",
    "        distancex = abs(self.x - other.x)\n",
    "        distancey = abs(self.y - other.y)\n",
    "        distancez = abs(self.z - other.z)\n",
    "        return distancex, distancey, distancez #alternativ math.sqrt(distancex**2 + distancey**2 + distancez**2)\n",
    "    \n",
    "    def dotprod(self, other):\n",
    "        arr1 = np.array([self.x, self.y, self.z])\n",
    "        arr2 = np.array([other.x, other.y, other.z])\n",
    "        return np.dot(arr1, arr2)\n",
    "        \n",
    "    def crossprod(self, other):\n",
    "        arr1 = np.array([self.x, self.y, self.z])\n",
    "        arr2 = np.array([other.x, other.y, other.z])\n",
    "        cross = np.cross(arr1, arr2)\n",
    "        cross = (cross[0], cross[1], cross[2])\n",
    "        cp = Point(cross[0], cross[1], cross[2])\n",
    "        return cp\n",
    "    \n",
    "    def norm(self):\n",
    "        return math.sqrt(self.x**2+self.y**2+self.z**2)\n",
    "    \n",
    "    def normalize(self):\n",
    "        arr = np.array([self.x, self.y, self.z])\n",
    "        norm = arr / np.linalg.norm(arr)\n",
    "        return norm[0], norm[1], norm[2]\n",
    "    \n",
    "    def scale(self, alpha):\n",
    "        self.x = self.x * alpha\n",
    "        self.y = self.y*alpha\n",
    "        self.z = self.z*alpha \n",
    "        return self.x, self.y, self.z\n",
    "\n",
    "    # Crossproduct with n.show??\n"
   ]
  },
  {
   "cell_type": "markdown",
   "metadata": {},
   "source": [
    "Check your Implementation on some simple examples"
   ]
  },
  {
   "cell_type": "code",
   "execution_count": 9,
   "metadata": {},
   "outputs": [
    {
     "name": "stdout",
     "output_type": "stream",
     "text": [
      "(1, 2, 3)\n",
      "(4, 5, 6)\n"
     ]
    },
    {
     "ename": "TypeError",
     "evalue": "move() takes 2 positional arguments but 4 were given",
     "output_type": "error",
     "traceback": [
      "\u001b[1;31m---------------------------------------------------------------------------\u001b[0m",
      "\u001b[1;31mTypeError\u001b[0m                                 Traceback (most recent call last)",
      "\u001b[1;32m<ipython-input-9-f79c0bd2ccc8>\u001b[0m in \u001b[0;36m<module>\u001b[1;34m\u001b[0m\n\u001b[0;32m      5\u001b[0m \u001b[0mprint\u001b[0m \u001b[1;33m(\u001b[0m \u001b[0mp2\u001b[0m\u001b[1;33m.\u001b[0m\u001b[0mshow\u001b[0m\u001b[1;33m(\u001b[0m\u001b[1;33m)\u001b[0m \u001b[1;33m)\u001b[0m\u001b[1;33m\u001b[0m\u001b[1;33m\u001b[0m\u001b[0m\n\u001b[0;32m      6\u001b[0m \u001b[1;33m\u001b[0m\u001b[0m\n\u001b[1;32m----> 7\u001b[1;33m \u001b[0mp1\u001b[0m\u001b[1;33m.\u001b[0m\u001b[0mmove\u001b[0m\u001b[1;33m(\u001b[0m\u001b[1;36m1\u001b[0m\u001b[1;33m,\u001b[0m\u001b[1;36m3\u001b[0m\u001b[1;33m,\u001b[0m\u001b[1;36m7\u001b[0m\u001b[1;33m)\u001b[0m\u001b[1;33m\u001b[0m\u001b[1;33m\u001b[0m\u001b[0m\n\u001b[0m\u001b[0;32m      8\u001b[0m \u001b[0mprint\u001b[0m \u001b[1;33m(\u001b[0m \u001b[0mp1\u001b[0m\u001b[1;33m.\u001b[0m\u001b[0mshow\u001b[0m\u001b[1;33m(\u001b[0m\u001b[1;33m)\u001b[0m \u001b[1;33m)\u001b[0m\u001b[1;33m\u001b[0m\u001b[1;33m\u001b[0m\u001b[0m\n\u001b[0;32m      9\u001b[0m \u001b[1;33m\u001b[0m\u001b[0m\n",
      "\u001b[1;31mTypeError\u001b[0m: move() takes 2 positional arguments but 4 were given"
     ]
    }
   ],
   "source": [
    "p1 = Point(1,2,3)\n",
    "p2 = Point(4,5,6)\n",
    "\n",
    "print ( p1.show() )\n",
    "print ( p2.show() )\n",
    "\n",
    "p1.move(1,3,7)\n",
    "print ( p1.show() )\n",
    "\n",
    "print(p1.dist(p2))\n",
    "\n",
    "print(p1.norm())\n",
    "print(p1.normalize())\n",
    "\n",
    "\n",
    "\n",
    "print(Point.dotprod(p1,p1))\n",
    "n=Point.crossprod(p1,p2)\n",
    "#print(n)\n",
    "print(n.show())\n",
    "\n",
    "n=Point.crossprod(p2,p2)\n",
    "print(n.show())\n",
    "\n"
   ]
  },
  {
   "cell_type": "markdown",
   "metadata": {},
   "source": [
    "##  Geometry in $R^3$\n",
    "\n",
    "Now we want to do some geometry in $R^3$. We define classes for a line and a plane, based on our point class with:\n",
    "\n",
    "Line:\n",
    " * a init method to define the line by starting point x0 and direction vector v\n",
    " \n",
    "Plane: \n",
    " * a init method to define the plane by starting point x0 and direction vectors v,w\n",
    " * a normal method to return the normal of the plane (normalized)\n",
    " * a line_intersection method which returns the intersection with a given line g "
   ]
  },
  {
   "cell_type": "code",
   "execution_count": 10,
   "metadata": {},
   "outputs": [],
   "source": [
    "from scipy import linalg as la\n",
    "class Line(object):\n",
    "    \"\"\"Class to handle lines in R^3\"\"\"\n",
    "    \n",
    "    def __init__(self, x0, v):\n",
    "        self.x0 = x0\n",
    "        self.v = v\n",
    "    \n",
    "    \n",
    "class Plane(object): \n",
    "    \"\"\"Class to handle planes in R^3\"\"\"\n",
    "    \n",
    "    def __init__(self, x0, v, w):\n",
    "        self.x0x, self.x0y, self.x0z = x0.x, x0.y, x0.z\n",
    "        self.vx, self.vy, self.vz = v.x, v.y, v.z\n",
    "        self.wx, self.wy, self.wz = w.x, w.y, w.z\n",
    "    \n",
    "    def normal(self):\n",
    "        #a normal to the plane is a vector normal to both v and w, which can be found as the cross product n = v x w\n",
    "        arr1 = np.array([v.x, v.y, v.z])\n",
    "        arr2 = np.array([w.x, w.y, w.z])\n",
    "        cross = np.cross(arr1, arr2)\n",
    "        cross = (cross[0], cross[1], cross[2])\n",
    "        cp = Point(cross[0], cross[1], cross[2])\n",
    "        return cp\n",
    "    \n",
    "    def line_intersection(self, g):\n",
    "        A=np.zeros((3,3))\n",
    "        b=np.zeros((3,1))\n",
    "        A[0,0]=g.v.x\n",
    "        A[1,0]=g.v.y\n",
    "        A[2,0]=g.v.z\n",
    "        A[0,1]=-self.vx\n",
    "        A[1,1]=-self.vy\n",
    "        A[2,1]=-self.vz\n",
    "        A[0,2]=-self.wx\n",
    "        A[1,2]=-self.wy\n",
    "        A[2,2]=-self.wz\n",
    "        #print(A)\n",
    "        #print(la.det(A))\n",
    "        b[0]=self.x0x - g.x0.x\n",
    "        b[1]=self.x0y - g.x0.y\n",
    "        b[2]=self.x0z - g.x0.z\n",
    "        #print(b)\n",
    "        sol=la.solve(A,b)\n",
    "        #print(sol)\n",
    "        s=g.x0\n",
    "        v=g.v\n",
    "        v.scale(float(sol[0]))\n",
    "        s.move(v)\n",
    "        return s\n",
    "    \n",
    "    def plane_intersection(self,E):\n",
    "        return 0\n",
    "        \n",
    "       "
   ]
  },
  {
   "cell_type": "markdown",
   "metadata": {},
   "source": [
    "Do some tests with the Plane and Line class, check the values."
   ]
  },
  {
   "cell_type": "code",
   "execution_count": 11,
   "metadata": {},
   "outputs": [
    {
     "name": "stdout",
     "output_type": "stream",
     "text": [
      "(-3, 6, -3)\n"
     ]
    }
   ],
   "source": [
    "x0=Point(6,11,6)\n",
    "v =Point(1,2,1)\n",
    "g=Line(x0,v)\n",
    "\n",
    "x0=Point(1,2,3)\n",
    "v =Point(4,5,6)\n",
    "w =Point(7,8,9)\n",
    "E =Plane(x0,v,w) \n",
    "\n",
    "n=E.normal()\n",
    "print (n.show())\n"
   ]
  },
  {
   "cell_type": "markdown",
   "metadata": {},
   "source": [
    "### Intersection plane-line\n",
    "Now go ahead to our Plane class and implement a method\n",
    "\n",
    "* line_intersection(self,g)\n",
    "\n",
    "which returns the intersection point of the plane with line g. Then check it with the following calls:"
   ]
  },
  {
   "cell_type": "code",
   "execution_count": 12,
   "metadata": {},
   "outputs": [
    {
     "name": "stdout",
     "output_type": "stream",
     "text": [
      "(1.0, 1.0, 1.0)\n"
     ]
    }
   ],
   "source": [
    "s=E.line_intersection(g)\n",
    "print(s.show())"
   ]
  },
  {
   "cell_type": "markdown",
   "metadata": {},
   "source": [
    "### Intersection plane - plane\n",
    "Now again go ahead to our Plane class and implement a method\n",
    "\n",
    "    plane_intersection(self,E)\n",
    "\n",
    "which returns the intersection line of the plane with another plane E. \n",
    "\n",
    "This can be done by having the planes in normal form:\n",
    "$$\n",
    "E_1: n_1 \\cdot x + d_1=0 \\\\\n",
    "E_2: n_2 \\cdot x + d_2=0 \\\\\n",
    "$$\n",
    "where $\\cdot$ is the scalar product and $n_1$,$n_2$ the normal vectors of the planes.\n",
    "\n",
    "So we have $2$ equations for $3$ unknowns $x_1,x_2,x_3$. \n",
    "\n",
    "Lets add the condition:\n",
    "$$\n",
    "(n_1 \\times n_2) \\cdot x = 0\n",
    "$$\n",
    "with $\\times$ as the cross product in R^3, which leads to $3$ equations for $3$ unknowns.\n",
    "\n",
    "The solution $x$ is a point on the intersection line, because it fulfills both plane equations.\n",
    "\n",
    "Moreover $(n_1 \\times n_2)$ is a vector whicht is orthogonal to both  normal vectors of the planes,\n",
    "so it is parallel to both planes and a direction vector of the intersection line.\n",
    "\n",
    "\n",
    "Then check it with the following calls:\n"
   ]
  },
  {
   "cell_type": "code",
   "execution_count": 13,
   "metadata": {},
   "outputs": [
    {
     "ename": "AttributeError",
     "evalue": "'int' object has no attribute 'x0'",
     "output_type": "error",
     "traceback": [
      "\u001b[1;31m---------------------------------------------------------------------------\u001b[0m",
      "\u001b[1;31mAttributeError\u001b[0m                            Traceback (most recent call last)",
      "\u001b[1;32m<ipython-input-13-9a36fac25d41>\u001b[0m in \u001b[0;36m<module>\u001b[1;34m\u001b[0m\n\u001b[0;32m     13\u001b[0m \u001b[1;31m# should be the x-axis\u001b[0m\u001b[1;33m\u001b[0m\u001b[1;33m\u001b[0m\u001b[1;33m\u001b[0m\u001b[0m\n\u001b[0;32m     14\u001b[0m \u001b[0mr\u001b[0m\u001b[1;33m=\u001b[0m\u001b[0mE\u001b[0m\u001b[1;33m.\u001b[0m\u001b[0mplane_intersection\u001b[0m\u001b[1;33m(\u001b[0m\u001b[0mE2\u001b[0m\u001b[1;33m)\u001b[0m\u001b[1;33m\u001b[0m\u001b[1;33m\u001b[0m\u001b[0m\n\u001b[1;32m---> 15\u001b[1;33m \u001b[0mprint\u001b[0m\u001b[1;33m(\u001b[0m\u001b[0mr\u001b[0m\u001b[1;33m.\u001b[0m\u001b[0mx0\u001b[0m\u001b[1;33m.\u001b[0m\u001b[0mshow\u001b[0m\u001b[1;33m(\u001b[0m\u001b[1;33m)\u001b[0m\u001b[1;33m)\u001b[0m\u001b[1;33m\u001b[0m\u001b[1;33m\u001b[0m\u001b[0m\n\u001b[0m\u001b[0;32m     16\u001b[0m \u001b[0mprint\u001b[0m\u001b[1;33m(\u001b[0m\u001b[0mr\u001b[0m\u001b[1;33m.\u001b[0m\u001b[0mv\u001b[0m\u001b[1;33m.\u001b[0m\u001b[0mshow\u001b[0m\u001b[1;33m(\u001b[0m\u001b[1;33m)\u001b[0m\u001b[1;33m)\u001b[0m\u001b[1;33m\u001b[0m\u001b[1;33m\u001b[0m\u001b[0m\n\u001b[0;32m     17\u001b[0m \u001b[1;33m\u001b[0m\u001b[0m\n",
      "\u001b[1;31mAttributeError\u001b[0m: 'int' object has no attribute 'x0'"
     ]
    }
   ],
   "source": [
    "# x-y plane\n",
    "x0=Point(0,0,0)\n",
    "v =Point(1,0,0)\n",
    "w =Point(0,1,0)\n",
    "E =Plane(x0,v,w) \n",
    "\n",
    "# x-z plane\n",
    "x0=Point(0,0,0)\n",
    "v =Point(1,0,0)\n",
    "w =Point(0,0,1)\n",
    "E2 =Plane(x0,v,w) \n",
    "\n",
    "# should be the x-axis \n",
    "r=E.plane_intersection(E2)\n",
    "print(r.x0.show())\n",
    "print(r.v.show())\n",
    "\n"
   ]
  },
  {
   "cell_type": "markdown",
   "metadata": {},
   "source": [
    "As the last task for today compute the intersection line of the planes:\n",
    "$$\n",
    "E1: \\quad  \\left[ \\begin{matrix}  x \\\\  y \\\\ z \\end{matrix} \\right]\n",
    "=          \\left[ \\begin{matrix}  1 \\\\  4 \\\\ 3  \\end{matrix} \\right]\n",
    "+ \\lambda_1  \\left[ \\begin{matrix}  0 \\\\  2 \\\\ 1  \\end{matrix} \\right]\n",
    "+ \\eta_1     \\left[ \\begin{matrix} -1 \\\\  4 \\\\ 0  \\end{matrix} \\right]\n",
    "$$\n",
    "\n",
    "\n",
    "$$\n",
    "E2: \\quad  \\left[ \\begin{matrix}  x \\\\  y \\\\ z \\end{matrix} \\right]\n",
    "=          \\left[ \\begin{matrix}  6 \\\\  4 \\\\ 2  \\end{matrix} \\right]\n",
    "+ \\lambda_2  \\left[ \\begin{matrix}  3 \\\\  3 \\\\ 2  \\end{matrix} \\right]\n",
    "+ \\eta_2     \\left[ \\begin{matrix}  2 \\\\  1 \\\\ -1  \\end{matrix} \\right]\n",
    "$$\n",
    "\n",
    "Because one can use different starting points and different scaled direction vectors for a line your\n",
    "solution will not have the same numbers like the solution \n",
    "\n",
    "$$\n",
    "g: \\quad  \\left[ \\begin{matrix}  x \\\\  y \\\\ z \\end{matrix} \\right]\n",
    "=         \\left[ \\begin{matrix}  1 \\\\  0 \\\\ 1  \\end{matrix} \\right]\n",
    "+  t      \\left[ \\begin{matrix}  1 \\\\  2 \\\\ 3  \\end{matrix} \\right]\n",
    "$$\n",
    "\n",
    "Implement a test which say if your solution is the line g from above or not."
   ]
  },
  {
   "cell_type": "code",
   "execution_count": 7,
   "metadata": {},
   "outputs": [
    {
     "ename": "AttributeError",
     "evalue": "'int' object has no attribute 'x0'",
     "output_type": "error",
     "traceback": [
      "\u001b[1;31m---------------------------------------------------------------------------\u001b[0m",
      "\u001b[1;31mAttributeError\u001b[0m                            Traceback (most recent call last)",
      "\u001b[1;32m<ipython-input-7-08797ba4d8ac>\u001b[0m in \u001b[0;36m<module>\u001b[1;34m\u001b[0m\n\u001b[0;32m     10\u001b[0m \u001b[1;33m\u001b[0m\u001b[0m\n\u001b[0;32m     11\u001b[0m \u001b[0mr\u001b[0m\u001b[1;33m=\u001b[0m\u001b[0mE1\u001b[0m\u001b[1;33m.\u001b[0m\u001b[0mplane_intersection\u001b[0m\u001b[1;33m(\u001b[0m\u001b[0mE2\u001b[0m\u001b[1;33m)\u001b[0m\u001b[1;33m\u001b[0m\u001b[1;33m\u001b[0m\u001b[0m\n\u001b[1;32m---> 12\u001b[1;33m \u001b[0mprint\u001b[0m\u001b[1;33m(\u001b[0m\u001b[0mr\u001b[0m\u001b[1;33m.\u001b[0m\u001b[0mx0\u001b[0m\u001b[1;33m.\u001b[0m\u001b[0mshow\u001b[0m\u001b[1;33m(\u001b[0m\u001b[1;33m)\u001b[0m\u001b[1;33m)\u001b[0m\u001b[1;33m\u001b[0m\u001b[1;33m\u001b[0m\u001b[0m\n\u001b[0m\u001b[0;32m     13\u001b[0m \u001b[0mprint\u001b[0m\u001b[1;33m(\u001b[0m\u001b[0mr\u001b[0m\u001b[1;33m.\u001b[0m\u001b[0mv\u001b[0m\u001b[1;33m.\u001b[0m\u001b[0mshow\u001b[0m\u001b[1;33m(\u001b[0m\u001b[1;33m)\u001b[0m\u001b[1;33m)\u001b[0m\u001b[1;33m\u001b[0m\u001b[1;33m\u001b[0m\u001b[0m\n\u001b[0;32m     14\u001b[0m \u001b[1;33m\u001b[0m\u001b[0m\n",
      "\u001b[1;31mAttributeError\u001b[0m: 'int' object has no attribute 'x0'"
     ]
    }
   ],
   "source": [
    "x0=Point(1,4,3)\n",
    "v =Point(0,2,1)\n",
    "w =Point(-1,4,0)\n",
    "E1 =Plane(x0,v,w) \n",
    "\n",
    "x0=Point(6,4,2)\n",
    "v =Point(3,3,2)\n",
    "w =Point(2,1,-1)\n",
    "E2 =Plane(x0,v,w) \n",
    "\n",
    "r=E1.plane_intersection(E2)\n",
    "print(r.x0.show())\n",
    "print(r.v.show())\n",
    "\n",
    "def samelines(g1,g2):\n",
    "    \n",
    "    # TODO\n",
    "    \n",
    "    if ( ... ):\n",
    "        print(\"  ... looks good \")\n",
    "    else:\n",
    "        print(\"  ... looks bad \")\n",
    "    \n",
    "    \n",
    "    \n",
    "\n",
    "x0=Point(1,0,1)\n",
    "v=Point(1,2,3)\n",
    "gs=Line(x0,v)\n",
    "\n",
    "samelines(gs,r)\n",
    "\n",
    "\n"
   ]
  },
  {
   "cell_type": "code",
   "execution_count": null,
   "metadata": {},
   "outputs": [],
   "source": []
  }
 ],
 "metadata": {
  "kernelspec": {
   "display_name": "Python 3",
   "language": "python",
   "name": "python3"
  },
  "language_info": {
   "codemirror_mode": {
    "name": "ipython",
    "version": 3
   },
   "file_extension": ".py",
   "mimetype": "text/x-python",
   "name": "python",
   "nbconvert_exporter": "python",
   "pygments_lexer": "ipython3",
   "version": "3.6.8"
  }
 },
 "nbformat": 4,
 "nbformat_minor": 4
}
